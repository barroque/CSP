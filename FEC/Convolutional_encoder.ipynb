{
 "cells": [
  {
   "cell_type": "markdown",
   "metadata": {
    "slideshow": {
     "slide_type": "slide"
    }
   },
   "source": [
    "# Convolutional encoder\n",
    "#### (Python tutorial)\n",
    "### Developed by Ms.Sc. Vladimir Fadeev\n",
    "#### (2015-2017 GRIAT student)\n",
    "### Kazan, 2019"
   ]
  },
  {
   "cell_type": "markdown",
   "metadata": {
    "slideshow": {
     "slide_type": "skip"
    }
   },
   "source": [
    "# System initialization"
   ]
  },
  {
   "cell_type": "code",
   "execution_count": 1,
   "metadata": {
    "slideshow": {
     "slide_type": "skip"
    }
   },
   "outputs": [],
   "source": [
    "import numpy as np\n",
    "from scipy.ndimage.interpolation import shift\n",
    "import itertools "
   ]
  },
  {
   "cell_type": "markdown",
   "metadata": {
    "slideshow": {
     "slide_type": "slide"
    }
   },
   "source": [
    "# Introduction"
   ]
  },
  {
   "cell_type": "markdown",
   "metadata": {},
   "source": [
    "Main points:\n",
    "\n",
    "- Kind of <span style=\"color:green\">continuous</span> channel codes.\n",
    "\n",
    "- Implemented in <span style=\"color:purple\">2G</span>. \n",
    "Also used in <span style=\"color:purple\">3G</span> and <span style=\"color:purple\">4G</span> as the Turbo convolutional codes. Operated in <span style=\"color:purple\">Deep space communications</span> as the Reed Solomon + CC concatenated codes.\n",
    "\n",
    "- Encoders include memory registers. The number of memory registers + 1 is generally called as constrain length $L$. \n",
    "Following representation is usually used:$ (L, \\mathbf{G}) $,\n",
    "where $\\mathbf{G}$ is the array of generators (octal form).\n",
    "\n"
   ]
  },
  {
   "cell_type": "markdown",
   "metadata": {
    "slideshow": {
     "slide_type": "slide"
    }
   },
   "source": [
    "E.g.: $ (7, [177, 133]) $. This representation relates to following construction:\n"
   ]
  },
  {
   "cell_type": "markdown",
   "metadata": {
    "slideshow": {
     "slide_type": "-"
    }
   },
   "source": [
    "![conv](https://raw.githubusercontent.com/kirlf/communication_stuff/master/FEC/assets/conv_code_177_133.png)"
   ]
  },
  {
   "cell_type": "markdown",
   "metadata": {},
   "source": [
    "Let us explain: octal **177** is the binary **1111001**, octal **133** is the binary **1011011**. So, the **one** means the existance of the link to adder (by modulo 2), **zero** - no link. \n",
    "\n"
   ]
  },
  {
   "cell_type": "markdown",
   "metadata": {
    "slideshow": {
     "slide_type": "slide"
    }
   },
   "source": [
    "So, let's try to implement this structure. Firstly, transform octal representation to the binary:"
   ]
  },
  {
   "cell_type": "code",
   "execution_count": 2,
   "metadata": {},
   "outputs": [],
   "source": [
    "def poly2regs(poly):\n",
    "    L = poly[0] # Constrain length\n",
    "    Gen = [] # List for generators\n",
    "    for g in poly[1]:\n",
    "        bin_str = bin(int(str(g), 8))[2:] # From octal to binary representation\n",
    "        split_str = list(tuple(bin_str)) # Split the bits \n",
    "        split_int = [int(i) for i in split_str] # Convert to from chars to integers\n",
    "        Gen.append(split_int)\n",
    "    return L, Gen"
   ]
  },
  {
   "cell_type": "code",
   "execution_count": 3,
   "metadata": {},
   "outputs": [
    {
     "data": {
      "text/plain": [
       "(7, [[1, 1, 1, 1, 0, 0, 1], [1, 0, 1, 1, 0, 1, 1]])"
      ]
     },
     "execution_count": 3,
     "metadata": {},
     "output_type": "execute_result"
    }
   ],
   "source": [
    "poly2regs([7,[171, 133]])"
   ]
  },
  {
   "cell_type": "markdown",
   "metadata": {
    "slideshow": {
     "slide_type": "slide"
    }
   },
   "source": [
    "# Python class"
   ]
  },
  {
   "cell_type": "code",
   "execution_count": 4,
   "metadata": {
    "scrolled": true,
    "slideshow": {
     "slide_type": "-"
    }
   },
   "outputs": [],
   "source": [
    "class ConvolutionalCodes:\n",
    "    def __init__(self, poly):\n",
    "        self.poly = poly\n",
    "        \n",
    "    def poly2regs(self):\n",
    "        poly = self.poly\n",
    "        L = poly[0] # Constrain length\n",
    "        Gen = [] # List for generators\n",
    "        for g in poly[1]:\n",
    "            bin_str = bin(int(str(g), 8))[2:] # From octal to binary representation\n",
    "            split_str = list(tuple(bin_str)) # Split the bits \n",
    "            split_int = [int(i) for i in split_str] # Convert to from chars to integers\n",
    "            Gen.append(split_int)\n",
    "        return L, Gen\n",
    "    \n",
    "    def encoder(self, message):\n",
    "        L, Gen = self.poly2regs()\n",
    "        Gen = np.matrix(Gen)\n",
    "        memory = np.zeros((L,))\n",
    "        encoded = []\n",
    "        for bit in message:\n",
    "            memory = np.abs(shift(memory, 1, cval=np.NaN).round())\n",
    "            memory[0] = bit\n",
    "            y = np.array(np.dot(Gen, memory) % 2)\n",
    "            [encoded.append(i) for i in y[0]]\n",
    "        return encoded          "
   ]
  },
  {
   "cell_type": "markdown",
   "metadata": {
    "slideshow": {
     "slide_type": "slide"
    }
   },
   "source": [
    "# Run"
   ]
  },
  {
   "cell_type": "code",
   "execution_count": 5,
   "metadata": {
    "slideshow": {
     "slide_type": "-"
    }
   },
   "outputs": [],
   "source": [
    "convC = ConvolutionalCodes([7,[171, 133]])"
   ]
  },
  {
   "cell_type": "code",
   "execution_count": 6,
   "metadata": {
    "slideshow": {
     "slide_type": "-"
    }
   },
   "outputs": [
    {
     "data": {
      "text/plain": [
       "(7, [[1, 1, 1, 1, 0, 0, 1], [1, 0, 1, 1, 0, 1, 1]])"
      ]
     },
     "execution_count": 6,
     "metadata": {},
     "output_type": "execute_result"
    }
   ],
   "source": [
    "convC.poly2regs()"
   ]
  },
  {
   "cell_type": "code",
   "execution_count": 7,
   "metadata": {
    "slideshow": {
     "slide_type": "-"
    }
   },
   "outputs": [
    {
     "data": {
      "text/plain": [
       "[1.0, 1.0, 1.0, 0.0, 0.0, 0.0, 0.0, 1.0, 1.0, 1.0, 0.0, 1.0, 1.0, 0.0]"
      ]
     },
     "execution_count": 7,
     "metadata": {},
     "output_type": "execute_result"
    }
   ],
   "source": [
    "convC.encoder([1, 0, 1, 0, 0, 1, 1])"
   ]
  }
 ],
 "metadata": {
  "celltoolbar": "Slideshow",
  "kernelspec": {
   "display_name": "Python 3",
   "language": "python",
   "name": "python3"
  },
  "language_info": {
   "codemirror_mode": {
    "name": "ipython",
    "version": 3
   },
   "file_extension": ".py",
   "mimetype": "text/x-python",
   "name": "python",
   "nbconvert_exporter": "python",
   "pygments_lexer": "ipython3",
   "version": "3.6.4"
  },
  "livereveal": {
   "scroll": true
  }
 },
 "nbformat": 4,
 "nbformat_minor": 2
}
