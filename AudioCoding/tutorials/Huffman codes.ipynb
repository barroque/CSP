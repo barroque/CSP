{
 "cells": [
  {
   "cell_type": "markdown",
   "metadata": {},
   "source": [
    "# Introduction\n",
    "\n",
    "## Main idea:\n",
    "We need to compress our data. \n",
    "\n",
    "For this frequently used symbols can be encoded as shorter codewords than rarerly used symbols.\n",
    "\n",
    "## Main limit:\n",
    "Codeword can not be begining of the another codeword."
   ]
  },
  {
   "cell_type": "code",
   "execution_count": 11,
   "metadata": {},
   "outputs": [],
   "source": [
    "from datetime import timedelta\n",
    "from IPython.display import YouTubeVideo"
   ]
  },
  {
   "cell_type": "code",
   "execution_count": 12,
   "metadata": {},
   "outputs": [
    {
     "data": {
      "text/html": [
       "\n",
       "        <iframe\n",
       "            width=\"400\"\n",
       "            height=\"300\"\n",
       "            src=\"https://www.youtube.com/embed/dM6us854Jk0\"\n",
       "            frameborder=\"0\"\n",
       "            allowfullscreen\n",
       "        ></iframe>\n",
       "        "
      ],
      "text/plain": [
       "<IPython.lib.display.YouTubeVideo at 0x74fc470>"
      ]
     },
     "execution_count": 12,
     "metadata": {},
     "output_type": "execute_result"
    }
   ],
   "source": [
    "YouTubeVideo(\"dM6us854Jk0\")"
   ]
  },
  {
   "cell_type": "markdown",
   "metadata": {},
   "source": [
    "# Work space\n",
    "\n",
    "Functions are from <a href=\"https://gist.github.com/jasonrdsouza/1c9c895f43497d15eb2e\" target=\"_blank\">this repository</a> "
   ]
  },
  {
   "cell_type": "code",
   "execution_count": 13,
   "metadata": {},
   "outputs": [],
   "source": [
    "import collections\n",
    "from queue import PriorityQueue, Queue\n",
    "import numpy as np"
   ]
  },
  {
   "cell_type": "code",
   "execution_count": 14,
   "metadata": {},
   "outputs": [
    {
     "name": "stdout",
     "output_type": "stream",
     "text": [
      "('H', 'e', 'l', 'l', 'o', ',', ' ', 'w', 'o', 'r', 'l', 'd')\n"
     ]
    }
   ],
   "source": [
    "# Message:\n",
    "str = 'Hello, world'\n",
    "# Split it to symbols and make a tuple:\n",
    "symbol_list = tuple(str)\n",
    "print(symbol_list)"
   ]
  },
  {
   "cell_type": "code",
   "execution_count": 15,
   "metadata": {},
   "outputs": [
    {
     "name": "stdout",
     "output_type": "stream",
     "text": [
      "[('l', 3), ('o', 2), ('H', 1), ('e', 1), (',', 1), (' ', 1), ('w', 1), ('r', 1), ('d', 1)]\n"
     ]
    }
   ],
   "source": [
    "# Count how frequently each symbol appears\n",
    "counts = collections.Counter(symbol_list).most_common()\n",
    "print(counts)"
   ]
  },
  {
   "cell_type": "code",
   "execution_count": 16,
   "metadata": {},
   "outputs": [],
   "source": [
    "def sortByWeight(inputStr):\n",
    "        return inputStr[1]"
   ]
  },
  {
   "cell_type": "code",
   "execution_count": 17,
   "metadata": {},
   "outputs": [
    {
     "name": "stdout",
     "output_type": "stream",
     "text": [
      "[('H', 1), ('e', 1), (',', 1), (' ', 1), ('w', 1), ('r', 1), ('d', 1), ('o', 2), ('l', 3)]\n"
     ]
    }
   ],
   "source": [
    "counts.sort(key=sortByWeight)\n",
    "print(counts)"
   ]
  },
  {
   "cell_type": "code",
   "execution_count": 18,
   "metadata": {},
   "outputs": [
    {
     "data": {
      "text/html": [
       "\n",
       "        <iframe\n",
       "            width=\"400\"\n",
       "            height=\"300\"\n",
       "            src=\"https://www.youtube.com/embed/pA-8eBZvN1E?start=3367&autoplay=1&theme=light&color=red\"\n",
       "            frameborder=\"0\"\n",
       "            allowfullscreen\n",
       "        ></iframe>\n",
       "        "
      ],
      "text/plain": [
       "<IPython.lib.display.YouTubeVideo at 0x71cda90>"
      ]
     },
     "execution_count": 18,
     "metadata": {},
     "output_type": "execute_result"
    }
   ],
   "source": [
    "# Make queue\n",
    "#queues = PriorityQueue()\n",
    "queues = Queue()\n",
    "start=int(timedelta(hours=0, minutes=56, seconds=7).total_seconds())\n",
    "# What is a queue (data structure)\n",
    "YouTubeVideo(\"pA-8eBZvN1E\", start=start, autoplay=1, theme=\"light\", color=\"red\")"
   ]
  },
  {
   "cell_type": "code",
   "execution_count": 19,
   "metadata": {},
   "outputs": [],
   "source": [
    "# Put elements into queue\n",
    "for (val,count) in counts:\n",
    "    queues.put((count, val), block=True)"
   ]
  },
  {
   "cell_type": "code",
   "execution_count": 20,
   "metadata": {},
   "outputs": [
    {
     "name": "stdout",
     "output_type": "stream",
     "text": [
      "0\n",
      "(1, 'H')\n",
      "(1, 'e')\n",
      "2\n",
      "(1, ',')\n",
      "(1, ' ')\n",
      "2\n",
      "(1, 'w')\n",
      "(1, 'r')\n",
      "2\n",
      "(1, 'd')\n",
      "(2, 'o')\n",
      "3\n",
      "(3, 'l')\n",
      "(2, ((1, 'H'), (1, 'e')))\n",
      "5\n",
      "(2, ((1, ','), (1, ' ')))\n",
      "(2, ((1, 'w'), (1, 'r')))\n",
      "5\n",
      "(3, ((1, 'd'), (2, 'o')))\n",
      "(5, ((3, 'l'), (2, ((1, 'H'), (1, 'e')))))\n",
      "8\n",
      "(4, ((2, ((1, ','), (1, ' '))), (2, ((1, 'w'), (1, 'r')))))\n",
      "(8, ((3, ((1, 'd'), (2, 'o'))), (5, ((3, 'l'), (2, ((1, 'H'), (1, 'e')))))))\n"
     ]
    }
   ],
   "source": [
    "total = len(symbol_list)\n",
    "largest_node_count = 0 # initial point\n",
    "\n",
    "# Create the Huffman tree\n",
    "while total != largest_node_count:\n",
    "    node1 = queues.get_nowait() # 1st element from the current queue \n",
    "    node2 = queues.get_nowait() # 2nd element from the current queue\n",
    "    print(largest_node_count)\n",
    "    print(node1)\n",
    "    print(node2)\n",
    "    new_count = node1[0] + node2[0] # sum weights (frequency)\n",
    "    # update largest count if new count larger than previous:\n",
    "    largest_node_count = new_count if new_count > largest_node_count else largest_node_count \n",
    "    queues.put((new_count, (node1,node2))) # put new elements (actually, sub-trees) into the queue"
   ]
  },
  {
   "cell_type": "code",
   "execution_count": 21,
   "metadata": {},
   "outputs": [
    {
     "name": "stdout",
     "output_type": "stream",
     "text": [
      "(12, ((4, ((2, ((1, ','), (1, ' '))), (2, ((1, 'w'), (1, 'r'))))), (8, ((3, ((1, 'd'), (2, 'o'))), (5, ((3, 'l'), (2, ((1, 'H'), (1, 'e')))))))))\n"
     ]
    }
   ],
   "source": [
    "# Get the binary tree structure\n",
    "huffman_tree_root = queues.get(False)\n",
    "print(huffman_tree_root)"
   ]
  },
  {
   "cell_type": "markdown",
   "metadata": {},
   "source": [
    "# Implementation"
   ]
  },
  {
   "cell_type": "code",
   "execution_count": 25,
   "metadata": {},
   "outputs": [],
   "source": [
    "def huffman_tree_to_table(root, prefix, lookup_table):\n",
    "    \"\"\"Converts the Huffman tree rooted at \"root\" to a lookup table\"\"\"\n",
    "    if type(root[1]) != tuple:\n",
    "        # leaf node\n",
    "        lookup_table[root[1]] = prefix\n",
    "    else:\n",
    "        huffman_tree_to_table(root[1][0], prefix + \"0\", lookup_table) #recursion\n",
    "        huffman_tree_to_table(root[1][1], prefix + \"1\", lookup_table) #recursion\n",
    "    return lookup_table"
   ]
  },
  {
   "cell_type": "code",
   "execution_count": 29,
   "metadata": {},
   "outputs": [],
   "source": [
    "def huffman(symbol_list):\n",
    "    #find the frequency of each symbol appearance\n",
    "    counts = collections.Counter(symbol_list).most_common()\n",
    "    counts.sort(key=sortByWeight)\n",
    "    print(counts)\n",
    "    total = len(symbol_list)\n",
    "    #queues = PriorityQueue()\n",
    "    queues = Queue()\n",
    "    for (val,count) in counts:\n",
    "        queues.put((count, val), block=True)\n",
    "    largest_node_count = 0\n",
    "    # Create the Huffman tree\n",
    "    print('Start to build tree')\n",
    "    while total != largest_node_count:\n",
    "        node1 = queues.get_nowait()\n",
    "        node2 = queues.get_nowait()\n",
    "        print(largest_node_count)\n",
    "        print(node1)\n",
    "        print(node2)\n",
    "        new_count = node1[0] + node2[0]\n",
    "        largest_node_count = new_count if new_count > largest_node_count else largest_node_count\n",
    "        queues.put((new_count, (node1,node2)))\n",
    "    print('Finish to build tree')\n",
    "    huffman_tree_root = queues.get(False)\n",
    "    \n",
    "    # generate the symbol to huffman code mapping\n",
    "    lookup_table = huffman_tree_to_table(huffman_tree_root, \"\", {})\n",
    "    return lookup_table"
   ]
  },
  {
   "cell_type": "code",
   "execution_count": 30,
   "metadata": {},
   "outputs": [
    {
     "name": "stdout",
     "output_type": "stream",
     "text": [
      "[('H', 1), ('e', 1), (',', 1), (' ', 1), ('w', 1), ('r', 1), ('d', 1), ('o', 2), ('l', 3)]\n",
      "Start to build tree\n",
      "0\n",
      "(1, 'H')\n",
      "(1, 'e')\n",
      "2\n",
      "(1, ',')\n",
      "(1, ' ')\n",
      "2\n",
      "(1, 'w')\n",
      "(1, 'r')\n",
      "2\n",
      "(1, 'd')\n",
      "(2, 'o')\n",
      "3\n",
      "(3, 'l')\n",
      "(2, ((1, 'H'), (1, 'e')))\n",
      "5\n",
      "(2, ((1, ','), (1, ' ')))\n",
      "(2, ((1, 'w'), (1, 'r')))\n",
      "5\n",
      "(3, ((1, 'd'), (2, 'o')))\n",
      "(5, ((3, 'l'), (2, ((1, 'H'), (1, 'e')))))\n",
      "8\n",
      "(4, ((2, ((1, ','), (1, ' '))), (2, ((1, 'w'), (1, 'r')))))\n",
      "(8, ((3, ((1, 'd'), (2, 'o'))), (5, ((3, 'l'), (2, ((1, 'H'), (1, 'e')))))))\n",
      "Finish to build tree\n"
     ]
    }
   ],
   "source": [
    "#a = tuple('If I have seen further it is by standing on ye sholders of Giants.')\n",
    "a = tuple('Hello, world')\n",
    "enc = huffman(a)"
   ]
  },
  {
   "cell_type": "code",
   "execution_count": 31,
   "metadata": {},
   "outputs": [
    {
     "name": "stdout",
     "output_type": "stream",
     "text": [
      "{',': '000', ' ': '001', 'w': '010', 'r': '011', 'd': '100', 'o': '101', 'l': '110', 'H': '1110', 'e': '1111'}\n"
     ]
    }
   ],
   "source": [
    "print(enc)"
   ]
  },
  {
   "attachments": {},
   "cell_type": "markdown",
   "metadata": {},
   "source": [
    "![image.png](./assets/huff_tree.png)"
   ]
  }
 ],
 "metadata": {
  "kernelspec": {
   "display_name": "Python 3",
   "language": "python",
   "name": "python3"
  },
  "language_info": {
   "codemirror_mode": {
    "name": "ipython",
    "version": 3
   },
   "file_extension": ".py",
   "mimetype": "text/x-python",
   "name": "python",
   "nbconvert_exporter": "python",
   "pygments_lexer": "ipython3",
   "version": "3.6.4"
  }
 },
 "nbformat": 4,
 "nbformat_minor": 2
}
