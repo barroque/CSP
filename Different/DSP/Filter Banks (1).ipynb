{
 "cells": [
  {
   "cell_type": "markdown",
   "metadata": {},
   "source": [
    "# Введение\n",
    "Я думаю, нет такого посетителя данной страницы, который не слышал бы о стандарте MP3 (MPEG-1 Layer III), поэтому смысла в долгом вступлении я не вижу. Формат известный во многом благодаря своей компактности и довольно хорошему (с точки зрения равнодушных к Lossless форматам) качеству. Ныне весьма устаревший, однако существующий ещё как в плеерах некоторых меломанов, так и на музыкальных онлайн площадках (возможно, сейчас больше в виде своей реинкарнации - формате AAC).\n",
    "\n",
    "В силу чего был найден баланс между размером и качеством? Если в кратце, то:\n",
    "1. это применение блока фильтров (Filter banks);\n",
    "2. это применение психо-аккустической модели (Psycoacoustic / Perceptual model) в процессе компрессии принебрежимой информации (irrelevance);\n",
    "3. это применение эффективного кодирования (Entropy coding) в процессе избавления от избытычности (redundancy).\n",
    "\n",
    "<img src=\"https://pp.userapi.com/c844720/v844720150/bcd72/80VaKOi-hI8.jpg\" width=\"700\">\n",
    "\n",
    "В данном семинаре будут рассмотрены filter bank'и (см. слайды **02 Filterbanks1, NobleID**  и **03 FilterBanks2**  по этой [ссылке](https://www.tu-ilmenau.de/mt/lehrveranstaltungen/lehre-fuer-master-mt/audio-coding/)).\n",
    "\n",
    "### Основная идея\n",
    "\n",
    "В целом, идею можно описать так: у нас есть линейка (гребень, как иногда говорят) параллельных фильтров, каждый из которых последовательно настроен на какую-то свою частоту. Частоты, как правило, нормируют от 0 до $\\pi$. Соответсвенно, чем больше мы имеем в своем распоряжении фильтров - тем реже (плавнее) становится шаг перехода от частоты к частоте, а следовательно тем больше вариаций частот мы можем анализировать.\n",
    "\n",
    "Фильтры в данном контексте - это, как правило, всем, кто сталкивался с обработкой сигналов, известные преобразователи Фурье в той или иной вариации: FFT, [DCT-IV](https://www.tu-ilmenau.de/fileadmin/media/mt/lehre/ma_mt/audiocoding/Lecture_WS2013_14/04_shl_Filterbanks1_NobleID_WS2013-14.pdf), [MDCT](https://www.tu-ilmenau.de/fileadmin/public/mt_ams/Audio_Coding/Vorlesung/WS_2016-17/03_shl_FilterBanks2_WS2016-17.pdf), [PQMF](https://www.tu-ilmenau.de/fileadmin/public/mt_ams/Audio_Coding/Vorlesung/WS_2016-17/07_shl_PQMF_MPEG1-2BC_WS2016-17.pdf) и т.д.\n",
    "\n",
    "\n",
    "### Ограничение\n",
    "\n",
    "Нельзя выбирать слишком большое количество фильтров из-за эффекта пре-эхо ![pre-echo](https://pp.userapi.com/c845020/v845020283/b410a/6stmEn7NaXY.jpg) \n",
    "- reason: blocks too long (too many bands)\n",
    "\n",
    "### Конфигурация\n",
    "\n",
    "Существует несколько методов применения гребенки фильтров. Рассмотри два самых известных:\n",
    "1. Прямое применение (Direct implementation);\n",
    "<img src=\"https://pp.userapi.com/c845523/v845523283/b5477/mN4VMQzDnkE.jpg\" width=\"700\">\n",
    "\n",
    "2. Noble Identities.\n",
    "<img src=\"https://pp.userapi.com/c849424/v849424283/3f6aa/FC571JKPJ80.jpg\" width=\"700\">\n",
    "\n",
    "\n",
    "**Домашнее задание**\n",
    "\n",
    "Объясните, в чем преимущество одного метода над другим?\n",
    "\n",
    "### Down-sampling и Up-sampling\n",
    "\n",
    "В процессе применения параллельных фильтров мы волей-неволей увеличиваем количество отсчетов, а соответсвенно частоту воспроизведения и размер обрабатываемого файла. Дабы избежать подобных последсвий применяются две зеркальные процедуры:\n",
    "1. Down-sampling\n",
    "<img src=\"https://pp.userapi.com/c824603/v824603630/17a383/-bKRpCkWCoo.jpg\" width=\"700\">\n",
    "2. Up-sampling \n",
    "<img src=\"https://pp.userapi.com/c824603/v824603630/17a38c/XUmXKfiDRdg.jpg\" width=\"700\">\n",
    "\n",
    "### Математическое описание\n",
    "В рамках данной работы нами будет рассмотрен метод модифицированного дискретного косинусного преобразования (MDCT - Modified Discret Cosine Transform):\n",
    "\n",
    "$$ h_k(L-1-n) = h(n)cos\\left(\\frac{\\pi}{N}(k+0.5)(n+0.5-\\frac{N}{2})\\right) $$\n",
    "\n",
    "где индекс $k$ - номер фильтра от 0 до $N-1$ ($N$ - длина фильтра), $n$ - номер отсчета от 0 до $2N-1$, а $h(n)$ - некоторая оконная функция. Обратите внимание, представление дано во временной области. В качестве оконной функции выбираем синусоидальное окно:\n",
    "\n",
    "$$ h(n) = sin\\left(\\frac{\\pi}{L}(n+0.5)\\right) $$\n",
    "\n",
    "где $L = 2N$ - длина окна.\n",
    "Как правило, для сторон анализа и синтеза используют одни и те же математические функции."
   ]
  },
  {
   "cell_type": "markdown",
   "metadata": {},
   "source": [
    "# Основная часть"
   ]
  },
  {
   "cell_type": "code",
   "execution_count": 1,
   "metadata": {},
   "outputs": [],
   "source": [
    "import numpy as np\n",
    "import matplotlib.pyplot as plt\n",
    "\n",
    "N = 128 #subbands\n",
    "L = 2*N"
   ]
  },
  {
   "cell_type": "markdown",
   "metadata": {},
   "source": [
    "Оконная функция:"
   ]
  },
  {
   "cell_type": "code",
   "execution_count": 2,
   "metadata": {},
   "outputs": [],
   "source": [
    "h = np.zeros((L,1)) #skeleton for window function\n",
    "for n in range(2*N-1):\n",
    "    h[n] = np.sin((np.pi / (2 * N)) * (n + 0.5)) #window function"
   ]
  },
  {
   "cell_type": "markdown",
   "metadata": {},
   "source": [
    "Входная последовательность:"
   ]
  },
  {
   "cell_type": "code",
   "execution_count": 3,
   "metadata": {},
   "outputs": [],
   "source": [
    "def ramp(x):\n",
    "    return np.maximum(0, x)"
   ]
  },
  {
   "cell_type": "code",
   "execution_count": 4,
   "metadata": {},
   "outputs": [],
   "source": [
    "u = np.linspace(-128*10,128*10, 128*10)\n",
    "x = ramp(u)"
   ]
  },
  {
   "cell_type": "code",
   "execution_count": 5,
   "metadata": {},
   "outputs": [
    {
     "data": {
      "text/plain": [
       "[<matplotlib.lines.Line2D at 0x88e6a58>]"
      ]
     },
     "execution_count": 5,
     "metadata": {},
     "output_type": "execute_result"
    },
    {
     "data": {
      "image/png": "[encoded data removed]",
      "text/plain": [
       "<Figure size 432x288 with 1 Axes>"
      ]
     },
     "metadata": {
      "needs_background": "light"
     },
     "output_type": "display_data"
    }
   ],
   "source": [
    "plt.plot(u, x)"
   ]
  },
  {
   "cell_type": "markdown",
   "metadata": {},
   "source": [
    "Анализ:"
   ]
  },
  {
   "cell_type": "code",
   "execution_count": 6,
   "metadata": {},
   "outputs": [],
   "source": [
    "H = np.zeros((N,L)) #skeleton for analisis H matrix\n",
    "pr = (L+len(x)-1) #lengh (number of coloumn) of signal after convolution\n",
    "Analysis_Mat = np.zeros((N,pr)) #skeleton for matrix after convolution\n",
    "for k in range(N): #rows\n",
    "    for n in range(L): #coloumns\n",
    "        H[k,n] = h[n]*np.cos((np.pi/N)*(k+0.5)*(n+0.5-(N/2))) #analysis H matrix\n",
    "    Analysis_Mat[k,:] = np.convolve(x,H[k,:]) #convolution"
   ]
  },
  {
   "cell_type": "markdown",
   "metadata": {},
   "source": [
    "После применения операции свертки, размер нашей входной последовательности закономерно увеличится на $L-1$."
   ]
  },
  {
   "cell_type": "code",
   "execution_count": 7,
   "metadata": {},
   "outputs": [],
   "source": [
    "d, c = Analysis_Mat.shape\n",
    "e = c - L + 1 #length (number of rows) of signal after convolution without last 255\n",
    "MatCut = Analysis_Mat[:,:e]"
   ]
  },
  {
   "cell_type": "code",
   "execution_count": 8,
   "metadata": {},
   "outputs": [
    {
     "data": {
      "image/png": "[encoded data removed]",
      "text/plain": [
       "<Figure size 432x288 with 1 Axes>"
      ]
     },
     "metadata": {
      "needs_background": "light"
     },
     "output_type": "display_data"
    }
   ],
   "source": [
    "plt.plot(Analysis_Mat[:,:])\n",
    "plt.show()"
   ]
  },
  {
   "cell_type": "markdown",
   "metadata": {},
   "source": [
    "Downsampling:"
   ]
  },
  {
   "cell_type": "code",
   "execution_count": 9,
   "metadata": {},
   "outputs": [],
   "source": [
    "iter128 = int(e/N) #number of rows that sould be stay after downsampling\n",
    "cutmat = int(np.floor(iter128)*N) #number of rows that sould follow to downsampln block (cut rows that are not fold to N)\n",
    "Analis = np.zeros((N,iter128)) #skeleton for signal after downsampling\n",
    "Post_Fin_Mat = MatCut[:,0:cutmat]#input for downsampling block\n",
    "for j in range(iter128):\n",
    "    Analis[:,j] = Post_Fin_Mat[:,0+j*N] #downsampling (it may be more simple without loop,of course)"
   ]
  },
  {
   "cell_type": "markdown",
   "metadata": {},
   "source": [
    "Upsampling:"
   ]
  },
  {
   "cell_type": "code",
   "execution_count": 10,
   "metadata": {},
   "outputs": [],
   "source": [
    "a, b = Analis.shape \n",
    "upsamp = np.zeros((a,b*N)) #skeleton for signal that should be after upsampling\n",
    "for i in range(b):\n",
    "    upsamp[:,0+N*i] = Analis[:,i]"
   ]
  },
  {
   "cell_type": "markdown",
   "metadata": {},
   "source": [
    "Синтез:"
   ]
  },
  {
   "cell_type": "code",
   "execution_count": 11,
   "metadata": {},
   "outputs": [],
   "source": [
    "m,n= upsamp.shape\n",
    "R = L + n - 1 #legth of signal (number o rows) that should be after convolution \n",
    "Final = np.zeros((N,R)) #skeleton for signal that should be after convolution \n",
    "G = (np.fliplr(H))/(N/2) #Synthesis matrix\n",
    "for k in range(N):\n",
    "    Final[k,:] = np.convolve(upsamp[k,:], G[k,:]) #convolution\n",
    "c,d = Final.shape\n",
    "e  = d-L+1\n",
    "FinalCut = Final[:,:e]\n",
    "y = sum(FinalCut)"
   ]
  },
  {
   "cell_type": "code",
   "execution_count": 12,
   "metadata": {},
   "outputs": [
    {
     "data": {
      "text/plain": [
       "[<matplotlib.lines.Line2D at 0xabc37f0>]"
      ]
     },
     "execution_count": 12,
     "metadata": {},
     "output_type": "execute_result"
    },
    {
     "data": {
      "image/png": "[encoded data removed]",
      "text/plain": [
       "<Figure size 432x288 with 1 Axes>"
      ]
     },
     "metadata": {
      "needs_background": "light"
     },
     "output_type": "display_data"
    }
   ],
   "source": [
    "plt.plot(np.array(range(len(y))), y)"
   ]
  },
  {
   "cell_type": "markdown",
   "metadata": {},
   "source": [
    "### К вопросу об идеальной реконструкции\n",
    "\n",
    "• Идеальные фильтры не реализуемы;\n",
    "\n",
    "• Во временной области это означало бы свертку нашего сигнала с sinc-функцией;\n",
    "\n",
    "• Sinc-функция бесконечно длинная и не причинная (not causal), что означает, что она вызывает бесконечную задержку;\n",
    "\n",
    "• Мы также не можем просто использовать DFT или FFT для получения идеального фильтра в частотной области;\n",
    "\n",
    "• Поскольку ДПФ также представляет собой банк фильтров, но особый тип, его эквивалентные фильтры далеки от совершенных фильтров (следовательно, мы не можем сделать с ним идеальные фильтры);\n",
    "\n",
    "• Не используйте свой глаз (глядя на форму волны), чтобы угадать, что может услышать ухо (совсем другая обработка сигналов)."
   ]
  }
 ],
 "metadata": {
  "kernelspec": {
   "display_name": "Python 3",
   "language": "python",
   "name": "python3"
  },
  "language_info": {
   "codemirror_mode": {
    "name": "ipython",
    "version": 3
   },
   "file_extension": ".py",
   "mimetype": "text/x-python",
   "name": "python",
   "nbconvert_exporter": "python",
   "pygments_lexer": "ipython3",
   "version": "3.6.4"
  }
 },
 "nbformat": 4,
 "nbformat_minor": 2
}
