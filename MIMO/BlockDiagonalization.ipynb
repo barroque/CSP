{
 "cells": [
  {
   "cell_type": "markdown",
   "metadata": {},
   "source": [
    "# Introduction"
   ]
  },
  {
   "cell_type": "markdown",
   "metadata": {},
   "source": [
    "All of the MIMO transmission techniques can be devided into two main groups:\n",
    "![class](https://raw.githubusercontent.com/kirlf/CSP/master/MIMO/assets/mu-mimo-techs.png)\n",
    "\n",
    "Moreover, [**spatial multiplexing**](https://www.mathworks.com/help/comm/examples/spatial-multiplexing.html) conxept has the extension: multiplexing between users - macro application of spatial multiplexing.\n",
    "\n",
    "\n",
    "![sch](https://raw.githubusercontent.com/kirlf/CSP/master/MIMO/assets/mu-mimo-scheme.png)\n",
    "\n",
    "Hence, the main problem is how to reduce **inter-user interference**.\n",
    "\n",
    "\n",
    "> **NOTE**:\n",
    ">\n",
    "> The modeling is developed by [\\[1\\]](https://ieeexplore.ieee.org/document/1261332). Please, read proposed paper to obtain more information about considered topic.\n",
    ">\n",
    "> You can find additional explanation and illustration in [Prof. Martin Haardt's slides](https://web.stanford.edu/group/sarg/Presentations/FAM2_Martin_Haardt.pdf). We are suggesting them also.\n",
    "\n",
    "One of the solutions is the **Block diagonalization Zero-Forcing algorithm**. Let us provide short theory explanation with example:"
   ]
  },
  {
   "cell_type": "markdown",
   "metadata": {},
   "source": [
    "![MU](https://raw.githubusercontent.com/kirlf/communication_stuff/master/MIMO/assets/mu-mimo.jpg)"
   ]
  },
  {
   "cell_type": "markdown",
   "metadata": {},
   "source": [
    "# Python class implementation"
   ]
  },
  {
   "cell_type": "code",
   "execution_count": 1,
   "metadata": {},
   "outputs": [],
   "source": [
    "import numpy as np \n",
    "import pandas as pd"
   ]
  },
  {
   "cell_type": "code",
   "execution_count": 2,
   "metadata": {},
   "outputs": [],
   "source": [
    "class ZeroForcingBD:\n",
    "    def __init__(self, H, Mrs_arr):\n",
    "        Mr, Mt = np.shape(H)\n",
    "        self.Mr = Mr\n",
    "        self.Mt = Mt\n",
    "        self.H = H\n",
    "        self.Mrs_arr = Mrs_arr\n",
    "    \n",
    "    def routines(self, H, idx, shift):\n",
    "        \n",
    "        # used in self.process() - See example above for illustration \n",
    "        # inputs: \n",
    "        #       H - the whole channel matrix\n",
    "        #       idx - number of receive antennas of the i-th user\n",
    "        #       shift - how much receive antennas were considered before\n",
    "        # outputs:\n",
    "        #       Uidx, Sigmaidx, Vhidx - SVD decomposition of the H_iP_i \n",
    "        #       d - rank of the hat H_i\n",
    "        #       Hidx - H_i (channel matrix for the i-th user)\n",
    "        \n",
    "        Hidx = H[0+shift:idx+shift,:]\n",
    "        del_idx = [i for i in range(0+shift, idx+shift, 1)]\n",
    "        H_hat_idx = np.delete(H, del_idx, 0)\n",
    "        d = np.linalg.matrix_rank(H_hat_idx)\n",
    "        U, Sigma, Vh = np.linalg.svd(H_hat_idx)\n",
    "        Vhn = Vh[d:, :]\n",
    "        Vn = np.matrix(Vhn).H\n",
    "        Pidx = np.dot(Vn, np.matrix(Vn).H)\n",
    "        Uidx, Sigmaidx, Vhidx = np.linalg.svd(np.dot(Hidx, Pidx)) \n",
    "        return Uidx, Sigmaidx, Vhidx, d, Hidx\n",
    "    \n",
    "    def process(self):\n",
    "        \n",
    "        # used in self.obtain_matrices()\n",
    "        # outputs:\n",
    "        #       F - whole filtering (pre-coding) matrix (array of arrays)\n",
    "        #       D - whole demodulator (post-processing) matrix (array of arrays)\n",
    "        #       H - the whole channel matrix (array of arrays)\n",
    "        \n",
    "        shift = 0\n",
    "        H = self.H\n",
    "        F = []\n",
    "        D = []\n",
    "        Hs = []\n",
    "        for idx in self.Mrs_arr:\n",
    "            Uidx, Sigmaidx, Vhidx, d, Hidx = self.routines(H, idx, shift)\n",
    "            Vhidx1 = Vhidx[:d,:]\n",
    "            Fidx = np.matrix(Vhidx1).H\n",
    "            F.append(Fidx)\n",
    "            D.append(Uidx)\n",
    "            Hs.append(Hidx)\n",
    "            shift = shift + idx\n",
    "        return F, D, Hs\n",
    "    \n",
    "    def obtain_matrices(self):\n",
    "        \n",
    "        # used to obtain pre-coding and post-processing matrices\n",
    "        # outputs:\n",
    "        #       FF - whole filtering (pre-coding) matrix \n",
    "        #       DD - whole demodulator (post-processing) matrix (array of arrays)\n",
    "        \n",
    "        F, D, Hs = self.process()\n",
    "        FF = np.hstack(F)\n",
    "        # TODO: calculation of the demodulator matrices\n",
    "        return FF\n",
    "        "
   ]
  },
  {
   "cell_type": "markdown",
   "metadata": {},
   "source": [
    "# Testing\n",
    "\n",
    "## System parameters"
   ]
  },
  {
   "cell_type": "code",
   "execution_count": 3,
   "metadata": {},
   "outputs": [],
   "source": [
    "Mrs_arr = [3,4] # 1st user have 2 receive antennas, 2nd user - 3 receive antennas.\n",
    "Mr = sum(Mrs_arr) # total number of the receive antennas \n",
    "Mt = 7 # total number of the transmitt antennas\n",
    "H = (np.random.randn(Mr,Mt) + 1j*np.random.randn(Mr, Mt))/np.sqrt(2); #Rayleigh flat faded channel matrix (MrxMt)"
   ]
  },
  {
   "cell_type": "markdown",
   "metadata": {},
   "source": [
    "## Class initialization"
   ]
  },
  {
   "cell_type": "code",
   "execution_count": 4,
   "metadata": {},
   "outputs": [],
   "source": [
    "BD = ZeroForcingBD(H, Mrs_arr)"
   ]
  },
  {
   "cell_type": "markdown",
   "metadata": {},
   "source": [
    "## Apply the relevant procedure"
   ]
  },
  {
   "cell_type": "code",
   "execution_count": 5,
   "metadata": {},
   "outputs": [],
   "source": [
    "F, D, Hs = BD.process()\n",
    "FF = BD.obtain_matrices()"
   ]
  },
  {
   "cell_type": "markdown",
   "metadata": {},
   "source": [
    "## Transform to the pandas DataFrame for better representation"
   ]
  },
  {
   "cell_type": "code",
   "execution_count": 6,
   "metadata": {},
   "outputs": [],
   "source": [
    "df = pd.DataFrame(np.dot(H, FF))\n",
    "df[abs(df).lt(1e-14)] = 0"
   ]
  },
  {
   "cell_type": "code",
   "execution_count": 7,
   "metadata": {},
   "outputs": [
    {
     "data": {
      "text/html": [
       "<div>\n",
       "<style scoped>\n",
       "    .dataframe tbody tr th:only-of-type {\n",
       "        vertical-align: middle;\n",
       "    }\n",
       "\n",
       "    .dataframe tbody tr th {\n",
       "        vertical-align: top;\n",
       "    }\n",
       "\n",
       "    .dataframe thead th {\n",
       "        text-align: right;\n",
       "    }\n",
       "</style>\n",
       "<table border=\"1\" class=\"dataframe\">\n",
       "  <thead>\n",
       "    <tr style=\"text-align: right;\">\n",
       "      <th></th>\n",
       "      <th>0</th>\n",
       "      <th>1</th>\n",
       "      <th>2</th>\n",
       "      <th>3</th>\n",
       "      <th>4</th>\n",
       "      <th>5</th>\n",
       "      <th>6</th>\n",
       "    </tr>\n",
       "  </thead>\n",
       "  <tbody>\n",
       "    <tr>\n",
       "      <th>0</th>\n",
       "      <td>-0.519507</td>\n",
       "      <td>-1.199983</td>\n",
       "      <td>0.197358</td>\n",
       "      <td>0.067213</td>\n",
       "      <td>0.000000</td>\n",
       "      <td>0.000000</td>\n",
       "      <td>0.000000</td>\n",
       "    </tr>\n",
       "    <tr>\n",
       "      <th>1</th>\n",
       "      <td>0.565909</td>\n",
       "      <td>0.225631</td>\n",
       "      <td>0.111967</td>\n",
       "      <td>-0.169232</td>\n",
       "      <td>0.000000</td>\n",
       "      <td>0.000000</td>\n",
       "      <td>0.000000</td>\n",
       "    </tr>\n",
       "    <tr>\n",
       "      <th>2</th>\n",
       "      <td>-0.299454</td>\n",
       "      <td>-0.664594</td>\n",
       "      <td>-0.265603</td>\n",
       "      <td>0.556174</td>\n",
       "      <td>0.000000</td>\n",
       "      <td>0.000000</td>\n",
       "      <td>0.000000</td>\n",
       "    </tr>\n",
       "    <tr>\n",
       "      <th>3</th>\n",
       "      <td>0.000000</td>\n",
       "      <td>0.000000</td>\n",
       "      <td>0.000000</td>\n",
       "      <td>0.478960</td>\n",
       "      <td>-1.691735</td>\n",
       "      <td>0.608402</td>\n",
       "      <td>0.886852</td>\n",
       "    </tr>\n",
       "    <tr>\n",
       "      <th>4</th>\n",
       "      <td>0.000000</td>\n",
       "      <td>0.000000</td>\n",
       "      <td>0.000000</td>\n",
       "      <td>0.540617</td>\n",
       "      <td>-0.181793</td>\n",
       "      <td>-0.584790</td>\n",
       "      <td>0.245402</td>\n",
       "    </tr>\n",
       "    <tr>\n",
       "      <th>5</th>\n",
       "      <td>0.000000</td>\n",
       "      <td>0.000000</td>\n",
       "      <td>0.000000</td>\n",
       "      <td>-1.223787</td>\n",
       "      <td>-0.601285</td>\n",
       "      <td>0.732952</td>\n",
       "      <td>-0.202793</td>\n",
       "    </tr>\n",
       "    <tr>\n",
       "      <th>6</th>\n",
       "      <td>0.000000</td>\n",
       "      <td>0.000000</td>\n",
       "      <td>0.000000</td>\n",
       "      <td>0.867216</td>\n",
       "      <td>2.542366</td>\n",
       "      <td>-0.049963</td>\n",
       "      <td>0.461627</td>\n",
       "    </tr>\n",
       "  </tbody>\n",
       "</table>\n",
       "</div>"
      ],
      "text/plain": [
       "          0         1         2         3         4         5         6\n",
       "0 -0.519507 -1.199983  0.197358  0.067213  0.000000  0.000000  0.000000\n",
       "1  0.565909  0.225631  0.111967 -0.169232  0.000000  0.000000  0.000000\n",
       "2 -0.299454 -0.664594 -0.265603  0.556174  0.000000  0.000000  0.000000\n",
       "3  0.000000  0.000000  0.000000  0.478960 -1.691735  0.608402  0.886852\n",
       "4  0.000000  0.000000  0.000000  0.540617 -0.181793 -0.584790  0.245402\n",
       "5  0.000000  0.000000  0.000000 -1.223787 -0.601285  0.732952 -0.202793\n",
       "6  0.000000  0.000000  0.000000  0.867216  2.542366 -0.049963  0.461627"
      ]
     },
     "execution_count": 7,
     "metadata": {},
     "output_type": "execute_result"
    }
   ],
   "source": [
    "pd.DataFrame(np.round(np.real(df),100))"
   ]
  },
  {
   "cell_type": "markdown",
   "metadata": {},
   "source": [
    "# References\n",
    "\n",
    "[1] Spencer, Quentin H., A. Lee Swindlehurst, and Martin Haardt. \"Zero-forcing methods for downlink spatial multiplexing in multiuser MIMO channels.\" IEEE transactions on signal processing 52.2 (2004): 461-471."
   ]
  }
 ],
 "metadata": {
  "kernelspec": {
   "display_name": "Python 3",
   "language": "python",
   "name": "python3"
  },
  "language_info": {
   "codemirror_mode": {
    "name": "ipython",
    "version": 3
   },
   "file_extension": ".py",
   "mimetype": "text/x-python",
   "name": "python",
   "nbconvert_exporter": "python",
   "pygments_lexer": "ipython3",
   "version": "3.6.4"
  }
 },
 "nbformat": 4,
 "nbformat_minor": 2
}
