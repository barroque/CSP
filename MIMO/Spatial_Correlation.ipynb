{
 "cells": [
  {
   "cell_type": "markdown",
   "metadata": {},
   "source": [
    "# Spatial Correlation (tasks)\n",
    "## M.Sc. Vladimir Fadeev\n",
    "### Kazan, 15.03.2019"
   ]
  },
  {
   "cell_type": "markdown",
   "metadata": {},
   "source": [
    "# Theory\n",
    "\n",
    "Ideally, spatial channels should be independent to each other, i.e. uncorrelated. \n",
    "![Kron1](https://raw.githubusercontent.com/kirlf/CSP/master/MIMO/assets/MIMObasics_3d_ed.png)\n",
    "\n",
    "However, it is almost unreachable case in real systems. Therefore we can calculate spatial correlation matrix to estimate correlation:\n",
    "\n",
    "$$ \\mathbf{R} = E\\left\\{vec\\left(H\\right)\\left(vec\\left(H\\right)\\right)^H\\right\\} \\qquad (1) $$\n",
    "\n",
    "![Kron2](https://raw.githubusercontent.com/kirlf/CSP/master/MIMO/assets/MIMObasics_r.png)"
   ]
  },
  {
   "cell_type": "markdown",
   "metadata": {},
   "source": [
    "If the Tx and Rx sides are **uncorrelated** (e.g. fig. 1) to each other, simplification can be applied: **Kronecker model**. \n",
    "\n",
    "![](https://raw.githubusercontent.com/kirlf/CSP/master/MIMO/assets/Uncorrelated_case.png)\n",
    "\n",
    "*Fig. 1. The scatters model in case of uncorrelated Rx and Tx. Green dots mean scatters, blue and red - RX and Tx.*\n",
    "\n",
    "![Kron3](https://raw.githubusercontent.com/kirlf/CSP/master/MIMO/assets/Kroneker%20Model.jpg)"
   ]
  },
  {
   "cell_type": "markdown",
   "metadata": {},
   "source": [
    "However, in case of correlated channel (e.g. fig. 2) the formula (1) should be used.\n",
    "\n",
    "![](https://raw.githubusercontent.com/kirlf/CSP/master/MIMO/assets/Correlated_case.png) \n",
    "\n",
    "*Fig. 2. The scatters model in case of correlated Rx and Tx. Green dots mean scatters, blue and red - RX and Tx.*"
   ]
  },
  {
   "cell_type": "markdown",
   "metadata": {},
   "source": [
    "# Tasks"
   ]
  },
  {
   "cell_type": "markdown",
   "metadata": {},
   "source": [
    "## Task #1\n",
    "\n",
    "If we consider the Kroneker model, can we say that $r_1 = r_2$ and $t_1 = t_2$?\n",
    "\n",
    "What about $3\\times 3$ or $4 \\times 3$ channels?\n",
    "\n",
    "**Hint**: See \\[1, p.40\\] about the Kronecker product and properties of $\\mathbf{R}_T$ and $\\mathbf{R}_R$.\n",
    "\n",
    "\n",
    "\n",
    "## Task #2\n",
    "\n",
    "Calculate all of the $\\gamma^{opt}$ if $\\mathbf{R}_T = \\begin{bmatrix} 0.6 & 0 \\\\ 0 & 0.7 \\end{bmatrix}$ and  $\\mathbf{R}_R = \\begin{bmatrix} 1 && 1 \\\\ 1 && 1 \\end{bmatrix}$, if SNR $-> + \\infty$ (values of co-variance matrices are random, the main part is the logic of the solution).\n",
    "\n",
    "**Hint**: Use the Water-pouring algorithm and see \\[1, p.40\\].\n",
    "\n",
    "## Task #3\n",
    "\n",
    "Is it possible to use Kronecker model for the following case:\n",
    "$$\\mathbf{R} = \\begin{bmatrix} 1 && 0.6 && 0.4 && 0.9 \\\\ 0.6 && 1 && 0.8 && 0.4 \\\\ 0.4 && 0.8 && 1 && 0.6 \\\\ 0.9 && 0.4 && 0.6 && 1 \\end{bmatrix}$$\n",
    "\n",
    "Explain why, if not. If yes, explain too.\n"
   ]
  },
  {
   "cell_type": "markdown",
   "metadata": {},
   "source": [
    "# Reference"
   ]
  },
  {
   "cell_type": "markdown",
   "metadata": {},
   "source": [
    "1. Paulraj, Arogyaswami, Rohit Nabar, and Dhananjay Gore. Introduction to space-time wireless communications. Cambridge university press, 2003."
   ]
  }
 ],
 "metadata": {
  "kernelspec": {
   "display_name": "Python 3",
   "language": "python",
   "name": "python3"
  },
  "language_info": {
   "codemirror_mode": {
    "name": "ipython",
    "version": 3
   },
   "file_extension": ".py",
   "mimetype": "text/x-python",
   "name": "python",
   "nbconvert_exporter": "python",
   "pygments_lexer": "ipython3",
   "version": "3.6.4"
  }
 },
 "nbformat": 4,
 "nbformat_minor": 2
}
