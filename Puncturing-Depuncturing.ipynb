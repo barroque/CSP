{
 "cells": [
  {
   "cell_type": "markdown",
   "metadata": {},
   "source": [
    "# Puncture and insert zeros\n",
    " \n",
    "These functions are python analogues of Matlab Simulink blocks:\n",
    "\n",
    "https://www.mathworks.com/help/comm/ref/puncture.html\n",
    "\n",
    "https://www.mathworks.com/help/comm/ref/insertzero.html\n",
    "\n",
    "Matherials are developed for teaching purposes only.\n"
   ]
  },
  {
   "cell_type": "code",
   "execution_count": 1,
   "metadata": {},
   "outputs": [],
   "source": [
    "import numpy as np"
   ]
  },
  {
   "cell_type": "code",
   "execution_count": 2,
   "metadata": {},
   "outputs": [],
   "source": [
    "def puncturing(message, punct_vec):\n",
    "    shift = 0\n",
    "    N = len(punct_vec)\n",
    "    punctured = []\n",
    "    for idx, item in enumerate(message):\n",
    "        if punct_vec[idx-shift*N] == 1:\n",
    "            punctured.append(item)\n",
    "        if idx%N == 0:\n",
    "            shift = shift + 1\n",
    "    return np.array(punctured)\n",
    "        \n",
    "            "
   ]
  },
  {
   "cell_type": "code",
   "execution_count": 3,
   "metadata": {},
   "outputs": [],
   "source": [
    "def depuncturing(punctured, punct_vec, shouldbe):\n",
    "    shift = 0\n",
    "    shift2 = 0\n",
    "    N = len(punct_vec)\n",
    "    depunctured = np.zeros((shouldbe,))\n",
    "    for idx, item in enumerate(depunctured):\n",
    "        if punct_vec[idx - shift*N] == 1:\n",
    "            depunctured[idx] = float(punctured[idx-shift2])\n",
    "        else:\n",
    "            shift2 = shift2 + 1\n",
    "        if idx%N == 0:\n",
    "            shift = shift + 1;\n",
    "    return depunctured\n"
   ]
  },
  {
   "cell_type": "code",
   "execution_count": 4,
   "metadata": {},
   "outputs": [
    {
     "data": {
      "text/plain": [
       "array([1, 2, 4, 5, 7, 8])"
      ]
     },
     "execution_count": 4,
     "metadata": {},
     "output_type": "execute_result"
    }
   ],
   "source": [
    "message = np.array([1, 2, 3, 4, 5, 6, 7, 8])\n",
    "punct_vec = np.array([1, 1, 0])\n",
    "punctured = puncturing(message, punct_vec)\n",
    "punctured"
   ]
  },
  {
   "cell_type": "code",
   "execution_count": 5,
   "metadata": {},
   "outputs": [
    {
     "data": {
      "text/plain": [
       "array([1., 2., 0., 4., 5., 0., 7., 8.])"
      ]
     },
     "execution_count": 5,
     "metadata": {},
     "output_type": "execute_result"
    }
   ],
   "source": [
    "depunctured = depuncturing(punctured, punct_vec, len(message))\n",
    "depunctured"
   ]
  }
 ],
 "metadata": {
  "kernelspec": {
   "display_name": "Python 3",
   "language": "python",
   "name": "python3"
  },
  "language_info": {
   "codemirror_mode": {
    "name": "ipython",
    "version": 3
   },
   "file_extension": ".py",
   "mimetype": "text/x-python",
   "name": "python",
   "nbconvert_exporter": "python",
   "pygments_lexer": "ipython3",
   "version": "3.6.4"
  }
 },
 "nbformat": 4,
 "nbformat_minor": 2
}
